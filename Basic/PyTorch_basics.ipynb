{
 "cells": [
  {
   "cell_type": "markdown",
   "metadata": {},
   "source": [
    "## Getting Started\n",
    "### Tensors\n",
    "Tensors are similar to NumPy’s ndarrays, with the addition being that Tensors can also be used on a GPU to accelerate computing."
   ]
  },
  {
   "cell_type": "code",
   "execution_count": 1,
   "metadata": {},
   "outputs": [],
   "source": [
    "import numpy as np\n",
    "import torch"
   ]
  },
  {
   "cell_type": "code",
   "execution_count": 2,
   "metadata": {},
   "outputs": [
    {
     "name": "stdout",
     "output_type": "stream",
     "text": [
      "tensor([[0.0000, 0.0000, 0.0000],\n",
      "        [0.0000, 0.0000, 0.0000],\n",
      "        [0.0000, 0.0000, 0.0000],\n",
      "        [0.0000, 0.0000, 0.0000],\n",
      "        [0.0000, 0.0000, 0.0000]])\n"
     ]
    }
   ],
   "source": [
    "# construct 2D empty matrix\n",
    "x= torch.empty(5,3)\n",
    "print(x)"
   ]
  },
  {
   "cell_type": "code",
   "execution_count": 4,
   "metadata": {},
   "outputs": [
    {
     "name": "stdout",
     "output_type": "stream",
     "text": [
      "tensor([[0.1832, 0.7748, 0.9579],\n",
      "        [0.6598, 0.4010, 0.5804],\n",
      "        [0.0334, 0.1353, 0.7693],\n",
      "        [0.0082, 0.2482, 0.7219],\n",
      "        [0.0736, 0.3785, 0.6435]])\n",
      "<class 'torch.Tensor'>\n"
     ]
    }
   ],
   "source": [
    "# construct a randomly initialised matrix\n",
    "x= torch.rand(5,3)\n",
    "print(x)\n",
    "print(type(x))"
   ]
  },
  {
   "cell_type": "code",
   "execution_count": 6,
   "metadata": {},
   "outputs": [
    {
     "name": "stdout",
     "output_type": "stream",
     "text": [
      "tensor([[0., 0., 0.],\n",
      "        [0., 0., 0.],\n",
      "        [0., 0., 0.],\n",
      "        [0., 0., 0.],\n",
      "        [0., 0., 0.]])\n",
      "<class 'torch.Tensor'>\n"
     ]
    }
   ],
   "source": [
    "x= torch.zeros(5,3)\n",
    "print(x)\n",
    "print(type(x))"
   ]
  },
  {
   "cell_type": "code",
   "execution_count": 7,
   "metadata": {},
   "outputs": [
    {
     "name": "stdout",
     "output_type": "stream",
     "text": [
      "tensor([[0, 0, 0],\n",
      "        [0, 0, 0],\n",
      "        [0, 0, 0],\n",
      "        [0, 0, 0],\n",
      "        [0, 0, 0]])\n",
      "<class 'torch.Tensor'>\n"
     ]
    }
   ],
   "source": [
    "x= torch.zeros(5,3, dtype= torch.long)\n",
    "print(x)\n",
    "print(type(x))"
   ]
  },
  {
   "cell_type": "markdown",
   "metadata": {},
   "source": [
    "Construct a tensor directly from data:\n",
    "\n",
    "A tensor can be constructed from a Python list or sequence using the torch.tensor() constructor:"
   ]
  },
  {
   "cell_type": "code",
   "execution_count": 9,
   "metadata": {},
   "outputs": [
    {
     "name": "stdout",
     "output_type": "stream",
     "text": [
      "tensor([5.5000, 3.0000])\n"
     ]
    }
   ],
   "source": [
    "x = torch.tensor([5.5, 3])\n",
    "print(x)"
   ]
  },
  {
   "cell_type": "code",
   "execution_count": 25,
   "metadata": {},
   "outputs": [
    {
     "name": "stdout",
     "output_type": "stream",
     "text": [
      "tensor([[ 0.6062,  0.2490, -1.2526],\n",
      "        [-0.0202, -0.6882,  0.0204],\n",
      "        [-1.2667, -0.5891,  0.2721],\n",
      "        [-1.2246,  1.3880, -1.4621],\n",
      "        [ 1.3381,  1.4288,  0.5598]])\n",
      "<class 'torch.Tensor'>\n",
      "torch.float32\n"
     ]
    }
   ],
   "source": [
    "Y= torch.tensor(np.array([[1, 2, 3], [4, 5, 6]]), dtype= torch.int32)\n",
    "print(y)\n",
    "print(type(x))\n",
    "print(x.dtype)\n",
    "\n",
    "# by default tensor.dtype is same as the dtype of data"
   ]
  },
  {
   "cell_type": "markdown",
   "metadata": {},
   "source": [
    "## Class tensor:\n",
    "#### There are a few ways for creating Tensors depending upon your purpose.\n",
    "-  To create a tensor from previously existing data: tensor.torch()\n",
    "-  To create a tensor of similar size and similar dtype: tensor.*_like()\n",
    "-  To create a tensor with siilar type but different size as another tensor: tensor.new_*"
   ]
  },
  {
   "cell_type": "markdown",
   "metadata": {},
   "source": [
    "new_tensor: <br>\n",
    "- Returns a new Tensor with data as the tensor data. By default the Tensor has the same tensor.dtype as this tensor"
   ]
  },
  {
   "cell_type": "code",
   "execution_count": 26,
   "metadata": {},
   "outputs": [
    {
     "name": "stdout",
     "output_type": "stream",
     "text": [
      "tensor([[1., 1., 1.],\n",
      "        [1., 1., 1.],\n",
      "        [1., 1., 1.],\n",
      "        [1., 1., 1.],\n",
      "        [1., 1., 1.]], dtype=torch.float64)\n",
      "tensor([[ 0.1896,  0.1790, -0.4507],\n",
      "        [ 1.1416,  1.9149, -0.1642],\n",
      "        [-1.2786, -1.2138, -0.2509],\n",
      "        [-0.0091, -0.4977, -0.0211],\n",
      "        [-1.6002,  0.9527,  0.9755]])\n",
      "torch.Size([5, 3])\n"
     ]
    }
   ],
   "source": [
    "x = x.new_ones(5, 3, dtype=torch.double)      \n",
    "print(x)\n",
    "\n",
    "x = torch.randn_like(x, dtype=torch.float) \n",
    "print(x) \n",
    "\n",
    "print(x.size())\n",
    "# torch.Size is a tuple, so it supports all tuple operations."
   ]
  },
  {
   "cell_type": "markdown",
   "metadata": {},
   "source": [
    "new_empty(size, dtype=None, device=None, requires_grad=False) → Tensor: <br>\n",
    "- Returns a tensor of same size filled with unitialised data. By default the returned tensor has same dtype as this tensor\n",
    "<br>\n",
    "\n",
    "new_ones(size, dtype=None, device=None, requires_grad=False) → Tensor: <br>\n",
    "- Returns a Tensor of size size filled with 1. By default, the returned Tensor has the same torch.dtype  as this tensor.<br>\n",
    "\n",
    "new_zeros(size, dtype=None, device=None, requires_grad=False) → Tensor: <br>\n",
    "- Returns a Tensor of size size filled with 0. By default, the returned Tensor has the same torch.dtype  as this tensor.\n",
    "\n"
   ]
  },
  {
   "cell_type": "markdown",
   "metadata": {},
   "source": [
    "### Operations\n",
    "There are multiple syntaxes for operations. "
   ]
  },
  {
   "cell_type": "code",
   "execution_count": 13,
   "metadata": {},
   "outputs": [
    {
     "name": "stdout",
     "output_type": "stream",
     "text": [
      "tensor([[ 0.6062,  0.2490, -1.2526],\n",
      "        [-0.0202, -0.6882,  0.0204],\n",
      "        [-1.2667, -0.5891,  0.2721],\n",
      "        [-1.2246,  1.3880, -1.4621],\n",
      "        [ 1.3381,  1.4288,  0.5598]])\n"
     ]
    }
   ],
   "source": [
    "# Addition syntax 1\n",
    "y = torch.rand(5, 3)\n",
    "print(x + y)"
   ]
  },
  {
   "cell_type": "code",
   "execution_count": 16,
   "metadata": {},
   "outputs": [
    {
     "name": "stdout",
     "output_type": "stream",
     "text": [
      "tensor([[ 0.6062,  0.2490, -1.2526],\n",
      "        [-0.0202, -0.6882,  0.0204],\n",
      "        [-1.2667, -0.5891,  0.2721],\n",
      "        [-1.2246,  1.3880, -1.4621],\n",
      "        [ 1.3381,  1.4288,  0.5598]])\n",
      "<class 'torch.Tensor'>\n"
     ]
    }
   ],
   "source": [
    "# Addition: syntax 2\n",
    "print(torch.add(x, y))\n",
    "print(type(torch.add(x, y)))\n",
    "\n",
    "# torch.add returns an object of class torch.Tensor"
   ]
  },
  {
   "cell_type": "code",
   "execution_count": 17,
   "metadata": {},
   "outputs": [
    {
     "name": "stdout",
     "output_type": "stream",
     "text": [
      "tensor([[ 0.6062,  0.2490, -1.2526],\n",
      "        [-0.0202, -0.6882,  0.0204],\n",
      "        [-1.2667, -0.5891,  0.2721],\n",
      "        [-1.2246,  1.3880, -1.4621],\n",
      "        [ 1.3381,  1.4288,  0.5598]])\n"
     ]
    }
   ],
   "source": [
    "# Addition: providing an output tensor as argument\n",
    "result = torch.empty(5, 3)\n",
    "torch.add(x, y, out=result)\n",
    "print(result)"
   ]
  },
  {
   "cell_type": "code",
   "execution_count": 18,
   "metadata": {},
   "outputs": [
    {
     "name": "stdout",
     "output_type": "stream",
     "text": [
      "tensor([[ 0.6062,  0.2490, -1.2526],\n",
      "        [-0.0202, -0.6882,  0.0204],\n",
      "        [-1.2667, -0.5891,  0.2721],\n",
      "        [-1.2246,  1.3880, -1.4621],\n",
      "        [ 1.3381,  1.4288,  0.5598]])\n"
     ]
    }
   ],
   "source": [
    "# Addition: in-place\n",
    "# adds x to y\n",
    "y.add_(x)\n",
    "print(y)"
   ]
  },
  {
   "cell_type": "markdown",
   "metadata": {},
   "source": [
    "Similarly y.copy_(x): copies y to x and \n",
    "y.t_() changes y"
   ]
  },
  {
   "cell_type": "markdown",
   "metadata": {},
   "source": [
    "You can use standard NumPy like extension for indicing, sclicing, etc"
   ]
  },
  {
   "cell_type": "code",
   "execution_count": 19,
   "metadata": {},
   "outputs": [
    {
     "name": "stdout",
     "output_type": "stream",
     "text": [
      "tensor([-0.4853, -1.1220, -0.7902,  0.7715,  1.3365])\n"
     ]
    }
   ],
   "source": [
    "print(x[:, 1])"
   ]
  },
  {
   "cell_type": "markdown",
   "metadata": {},
   "source": [
    "Resizing: If you want to resize/reshape tensor, you can use torch.view: <br>\n",
    "Use torch.Tensor.item() to get a Python number from a tensor containing a single value:\n"
   ]
  },
  {
   "cell_type": "code",
   "execution_count": 39,
   "metadata": {},
   "outputs": [
    {
     "name": "stdout",
     "output_type": "stream",
     "text": [
      "tensor([[1]])\n"
     ]
    },
    {
     "data": {
      "text/plain": [
       "1"
      ]
     },
     "execution_count": 39,
     "metadata": {},
     "output_type": "execute_result"
    }
   ],
   "source": [
    "x = torch.tensor([[1]])\n",
    "print(x)\n",
    "x.item()"
   ]
  },
  {
   "cell_type": "markdown",
   "metadata": {},
   "source": [
    "## NumPy Bridge\n",
    "### Converting a Torch Tensor to a NumPy array and vice versa is a breeze.\n",
    "\n",
    "The Torch Tensor and NumPy array will share their underlying memory locations, and changing one will change the other.\n",
    "\n",
    "#### Converting a Torch Tensor to a NumPy Array"
   ]
  },
  {
   "cell_type": "code",
   "execution_count": 40,
   "metadata": {},
   "outputs": [
    {
     "name": "stdout",
     "output_type": "stream",
     "text": [
      "tensor([1., 1., 1., 1., 1.])\n",
      "<class 'torch.Tensor'>\n",
      "[1. 1. 1. 1. 1.]\n",
      "<class 'numpy.ndarray'>\n"
     ]
    }
   ],
   "source": [
    "a = torch.ones(5)\n",
    "print(a)\n",
    "print(type(a))\n",
    "b= a.numpy()\n",
    "print(b)\n",
    "print(type(b))"
   ]
  },
  {
   "cell_type": "code",
   "execution_count": 41,
   "metadata": {},
   "outputs": [
    {
     "name": "stdout",
     "output_type": "stream",
     "text": [
      "tensor([2., 2., 2., 2., 2.])\n",
      "[2. 2. 2. 2. 2.]\n"
     ]
    }
   ],
   "source": [
    "a.add_(1)\n",
    "print(a)\n",
    "print(b)"
   ]
  },
  {
   "cell_type": "markdown",
   "metadata": {},
   "source": [
    "#### Converting NumPy Array to Torch Tensor\n",
    "See how changing the np array changed the Torch Tensor automatically"
   ]
  },
  {
   "cell_type": "code",
   "execution_count": 42,
   "metadata": {},
   "outputs": [
    {
     "name": "stdout",
     "output_type": "stream",
     "text": [
      "<class 'numpy.ndarray'>\n",
      "tensor([1., 1., 1., 1., 1.], dtype=torch.float64)\n",
      "<class 'torch.Tensor'>\n",
      "[2. 2. 2. 2. 2.]\n",
      "tensor([2., 2., 2., 2., 2.], dtype=torch.float64)\n"
     ]
    }
   ],
   "source": [
    "a = np.ones(5)\n",
    "print(type(a))\n",
    "b = torch.from_numpy(a)\n",
    "print(b)\n",
    "print(type(b))\n",
    "np.add(a, 1, out=a)\n",
    "print(a)\n",
    "print(b)"
   ]
  },
  {
   "cell_type": "markdown",
   "metadata": {},
   "source": [
    "## CUDA Tensors"
   ]
  },
  {
   "cell_type": "code",
   "execution_count": null,
   "metadata": {},
   "outputs": [],
   "source": []
  }
 ],
 "metadata": {
  "kernelspec": {
   "display_name": "Python 3",
   "language": "python",
   "name": "python3"
  },
  "language_info": {
   "codemirror_mode": {
    "name": "ipython",
    "version": 3
   },
   "file_extension": ".py",
   "mimetype": "text/x-python",
   "name": "python",
   "nbconvert_exporter": "python",
   "pygments_lexer": "ipython3",
   "version": "3.6.5"
  }
 },
 "nbformat": 4,
 "nbformat_minor": 2
}
