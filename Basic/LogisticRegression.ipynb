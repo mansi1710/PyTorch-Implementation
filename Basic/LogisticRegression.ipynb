{
 "cells": [
  {
   "cell_type": "code",
   "execution_count": 2,
   "metadata": {},
   "outputs": [],
   "source": [
    "import torch\n",
    "import torch.nn as nn\n",
    "import torch.nn.functional as F\n",
    "import torchvision\n",
    "import torchvision.datasets as dsets"
   ]
  },
  {
   "cell_type": "code",
   "execution_count": 11,
   "metadata": {},
   "outputs": [],
   "source": [
    "input_size = 784\n",
    "num_classes = 10\n",
    "num_epochs = 5\n",
    "batch_size = 100\n",
    "learning_rate = 0.001"
   ]
  },
  {
   "cell_type": "code",
   "execution_count": 10,
   "metadata": {},
   "outputs": [],
   "source": [
    "transform = torchvision.transforms.Compose(\n",
    "    [torchvision.transforms.ToTensor(),\n",
    "     torchvision.transforms.Normalize((0.5, 0.5, 0.5), (0.5, 0.5, 0.5))])\n",
    "\n",
    "trainset = torchvision.datasets.MNIST(root='./data', train=True,\n",
    "                                        download=True, transform=transform)\n",
    "testset= torchvision.datasets.MNIST(root='./data', train= False, transform=transform)"
   ]
  },
  {
   "cell_type": "code",
   "execution_count": 12,
   "metadata": {},
   "outputs": [],
   "source": [
    "train_loader= torch.utils.data.DataLoader(dataset= trainset, batch_size=batch_size, shuffle= True)\n",
    "test_loader= torch.utils.data.DataLoader(dataset= testset, batch_size= batch_size, shuffle= False)"
   ]
  },
  {
   "cell_type": "code",
   "execution_count": 13,
   "metadata": {},
   "outputs": [],
   "source": [
    "model= nn.Linear(input_size, num_classes)"
   ]
  },
  {
   "cell_type": "code",
   "execution_count": 14,
   "metadata": {},
   "outputs": [],
   "source": [
    "criterion= nn.CrossEntropyLoss()\n",
    "optimizer= torch.optim.SGD(model.parameters(), lr= learning_rate)"
   ]
  },
  {
   "cell_type": "code",
   "execution_count": 16,
   "metadata": {},
   "outputs": [
    {
     "name": "stdout",
     "output_type": "stream",
     "text": [
      "Epoch [1/5], Step [100/600], Loss: 1.9653\n",
      "Epoch [1/5], Step [200/600], Loss: 1.6900\n",
      "Epoch [1/5], Step [300/600], Loss: 1.5169\n",
      "Epoch [1/5], Step [400/600], Loss: 1.3369\n",
      "Epoch [1/5], Step [500/600], Loss: 1.2594\n",
      "Epoch [1/5], Step [600/600], Loss: 1.0857\n",
      "Epoch [2/5], Step [100/600], Loss: 0.9864\n",
      "Epoch [2/5], Step [200/600], Loss: 0.9547\n",
      "Epoch [2/5], Step [300/600], Loss: 0.9639\n",
      "Epoch [2/5], Step [400/600], Loss: 0.8397\n",
      "Epoch [2/5], Step [500/600], Loss: 0.7897\n",
      "Epoch [2/5], Step [600/600], Loss: 0.8046\n",
      "Epoch [3/5], Step [100/600], Loss: 0.8269\n",
      "Epoch [3/5], Step [200/600], Loss: 0.7162\n",
      "Epoch [3/5], Step [300/600], Loss: 0.7174\n",
      "Epoch [3/5], Step [400/600], Loss: 0.7195\n",
      "Epoch [3/5], Step [500/600], Loss: 0.6581\n",
      "Epoch [3/5], Step [600/600], Loss: 0.7118\n",
      "Epoch [4/5], Step [100/600], Loss: 0.6147\n",
      "Epoch [4/5], Step [200/600], Loss: 0.7225\n",
      "Epoch [4/5], Step [300/600], Loss: 0.6575\n",
      "Epoch [4/5], Step [400/600], Loss: 0.7175\n",
      "Epoch [4/5], Step [500/600], Loss: 0.6204\n",
      "Epoch [4/5], Step [600/600], Loss: 0.5874\n",
      "Epoch [5/5], Step [100/600], Loss: 0.6480\n",
      "Epoch [5/5], Step [200/600], Loss: 0.7144\n",
      "Epoch [5/5], Step [300/600], Loss: 0.5864\n",
      "Epoch [5/5], Step [400/600], Loss: 0.5231\n",
      "Epoch [5/5], Step [500/600], Loss: 0.4977\n",
      "Epoch [5/5], Step [600/600], Loss: 0.5756\n"
     ]
    }
   ],
   "source": [
    "total_step = len(train_loader)\n",
    "for epoch in range(num_epochs):\n",
    "    for i, (images,labels) in enumerate(train_loader):\n",
    "        images= images.reshape(-1, 28*28)\n",
    "        \n",
    "        output= model(images)\n",
    "        loss= criterion(output, labels)\n",
    "        optimizer.zero_grad()\n",
    "        loss.backward()\n",
    "        optimizer.step()\n",
    "        \n",
    "        if (i+1)%100==0:\n",
    "            print ('Epoch [{}/{}], Step [{}/{}], Loss: {:.4f}' \n",
    "                   .format(epoch+1, num_epochs, i+1, total_step, loss.item()))\n",
    "        "
   ]
  },
  {
   "cell_type": "code",
   "execution_count": 17,
   "metadata": {},
   "outputs": [
    {
     "name": "stdout",
     "output_type": "stream",
     "text": [
      "Accuracy of the model on the 10000 test images: 87 %\n"
     ]
    }
   ],
   "source": [
    "with torch.no_grad():\n",
    "    correct = 0\n",
    "    total = 0\n",
    "    for images, labels in test_loader:\n",
    "        images = images.reshape(-1, 28*28)\n",
    "        outputs = model(images)\n",
    "        _, predicted = torch.max(outputs.data, 1)\n",
    "        total += labels.size(0)\n",
    "        correct += (predicted == labels).sum()\n",
    "\n",
    "    print('Accuracy of the model on the 10000 test images: {} %'.format(100 * correct / total))\n"
   ]
  },
  {
   "cell_type": "code",
   "execution_count": 18,
   "metadata": {},
   "outputs": [],
   "source": [
    "torch.save(model.state_dict(), 'model.ckpt')"
   ]
  },
  {
   "cell_type": "code",
   "execution_count": null,
   "metadata": {},
   "outputs": [],
   "source": []
  }
 ],
 "metadata": {
  "kernelspec": {
   "display_name": "Python 3",
   "language": "python",
   "name": "python3"
  },
  "language_info": {
   "codemirror_mode": {
    "name": "ipython",
    "version": 3
   },
   "file_extension": ".py",
   "mimetype": "text/x-python",
   "name": "python",
   "nbconvert_exporter": "python",
   "pygments_lexer": "ipython3",
   "version": "3.6.5"
  }
 },
 "nbformat": 4,
 "nbformat_minor": 2
}
