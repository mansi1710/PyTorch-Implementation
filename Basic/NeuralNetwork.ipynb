{
 "cells": [
  {
   "cell_type": "code",
   "execution_count": 1,
   "metadata": {},
   "outputs": [],
   "source": [
    "import torch\n",
    "import torch.nn as nn\n",
    "import torch.nn.functional as F\n",
    "import torchvision\n",
    "import torchvision.datasets as dsets"
   ]
  },
  {
   "cell_type": "code",
   "execution_count": 32,
   "metadata": {},
   "outputs": [],
   "source": [
    "device = torch.device('cuda' if torch.cuda.is_available() else 'cpu')\n",
    "input_size = 784\n",
    "num_classes = 10\n",
    "hidden_size = 500\n",
    "num_epochs = 3\n",
    "batch_size = 100\n",
    "learning_rate = 0.001"
   ]
  },
  {
   "cell_type": "code",
   "execution_count": 33,
   "metadata": {},
   "outputs": [],
   "source": [
    "transform = torchvision.transforms.Compose(\n",
    "    [torchvision.transforms.ToTensor(),\n",
    "     torchvision.transforms.Normalize((0.5, 0.5, 0.5), (0.5, 0.5, 0.5))])\n",
    "\n",
    "trainset = torchvision.datasets.MNIST(root='./data', train=True,\n",
    "                                        download=True, transform=transform)\n",
    "testset= torchvision.datasets.MNIST(root='./data', train= False, transform=transform)"
   ]
  },
  {
   "cell_type": "code",
   "execution_count": 34,
   "metadata": {},
   "outputs": [],
   "source": [
    "train_loader= torch.utils.data.DataLoader(dataset= trainset, batch_size=batch_size, shuffle= True)\n",
    "test_loader= torch.utils.data.DataLoader(dataset= testset, batch_size= batch_size, shuffle= False)"
   ]
  },
  {
   "cell_type": "code",
   "execution_count": 35,
   "metadata": {},
   "outputs": [],
   "source": [
    "class Net(nn.Module):\n",
    "    def __init__ (self, input_size,hidden_size, num_classes):\n",
    "        super(Net,self).__init__()\n",
    "        self.fc1= nn.Linear(input_size, hidden_size)\n",
    "        self.relu= nn.ReLU()\n",
    "        self.fc2= nn.Linear(hidden_size, num_classes)\n",
    "        \n",
    "    def forward(self, x):\n",
    "        out= self.fc1(x)\n",
    "        out= self.relu(out)\n",
    "        out= self.fc2(out)\n",
    "        return out\n",
    "    \n",
    "model= Net(input_size, hidden_size, num_classes).to(device)"
   ]
  },
  {
   "cell_type": "code",
   "execution_count": 36,
   "metadata": {},
   "outputs": [],
   "source": [
    "criterion= nn.CrossEntropyLoss()\n",
    "optimizer= torch.optim.Adam(model.parameters(), lr= learning_rate)"
   ]
  },
  {
   "cell_type": "code",
   "execution_count": 37,
   "metadata": {},
   "outputs": [
    {
     "name": "stdout",
     "output_type": "stream",
     "text": [
      "Epoch [1/3], Step [100/600], Loss: 0.5838\n",
      "Epoch [1/3], Step [200/600], Loss: 0.4552\n",
      "Epoch [1/3], Step [300/600], Loss: 0.3216\n",
      "Epoch [1/3], Step [400/600], Loss: 0.2512\n",
      "Epoch [1/3], Step [500/600], Loss: 0.1445\n",
      "Epoch [1/3], Step [600/600], Loss: 0.2510\n",
      "Epoch [2/3], Step [100/600], Loss: 0.2204\n",
      "Epoch [2/3], Step [200/600], Loss: 0.2900\n",
      "Epoch [2/3], Step [300/600], Loss: 0.1339\n",
      "Epoch [2/3], Step [400/600], Loss: 0.1509\n",
      "Epoch [2/3], Step [500/600], Loss: 0.1318\n",
      "Epoch [2/3], Step [600/600], Loss: 0.0877\n",
      "Epoch [3/3], Step [100/600], Loss: 0.0729\n",
      "Epoch [3/3], Step [200/600], Loss: 0.1163\n",
      "Epoch [3/3], Step [300/600], Loss: 0.1408\n",
      "Epoch [3/3], Step [400/600], Loss: 0.1137\n",
      "Epoch [3/3], Step [500/600], Loss: 0.0896\n",
      "Epoch [3/3], Step [600/600], Loss: 0.1250\n"
     ]
    }
   ],
   "source": [
    "total_steps= len(train_loader)\n",
    "for epoch in range(num_epochs):\n",
    "    for i, (images, labels) in enumerate(train_loader):\n",
    "        images= images.reshape(-1, 28*28)\n",
    "        labels= labels.to(device)\n",
    "        \n",
    "        output= model(images)\n",
    "        loss= criterion(output, labels)\n",
    "        \n",
    "        optimizer.zero_grad()\n",
    "        loss.backward()\n",
    "        optimizer.step()\n",
    "        \n",
    "        if (i+1) % 100 == 0:\n",
    "            print ('Epoch [{}/{}], Step [{}/{}], Loss: {:.4f}' \n",
    "                   .format(epoch+1, num_epochs, i+1, total_steps, loss.item()))"
   ]
  },
  {
   "cell_type": "code",
   "execution_count": 38,
   "metadata": {},
   "outputs": [
    {
     "name": "stdout",
     "output_type": "stream",
     "text": [
      "Accuracy of the network on the 10000 test images: 96.72 %\n"
     ]
    }
   ],
   "source": [
    "with torch.no_grad():\n",
    "    correct = 0\n",
    "    total = 0\n",
    "    for images, labels in test_loader:\n",
    "        images = images.reshape(-1, 28*28).to(device)\n",
    "        labels = labels.to(device)\n",
    "        outputs = model(images)\n",
    "        _, predicted = torch.max(outputs.data, 1)\n",
    "        total += labels.size(0)\n",
    "        correct += (predicted == labels).sum().item()\n",
    "\n",
    "    print('Accuracy of the network on the 10000 test images: {} %'.format(100 * correct / total))\n"
   ]
  },
  {
   "cell_type": "code",
   "execution_count": null,
   "metadata": {},
   "outputs": [],
   "source": []
  }
 ],
 "metadata": {
  "kernelspec": {
   "display_name": "Python 3",
   "language": "python",
   "name": "python3"
  },
  "language_info": {
   "codemirror_mode": {
    "name": "ipython",
    "version": 3
   },
   "file_extension": ".py",
   "mimetype": "text/x-python",
   "name": "python",
   "nbconvert_exporter": "python",
   "pygments_lexer": "ipython3",
   "version": "3.6.5"
  }
 },
 "nbformat": 4,
 "nbformat_minor": 2
}
